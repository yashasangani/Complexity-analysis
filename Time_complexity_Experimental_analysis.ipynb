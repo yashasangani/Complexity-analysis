{
  "nbformat": 4,
  "nbformat_minor": 0,
  "metadata": {
    "colab": {
      "provenance": [],
      "authorship_tag": "ABX9TyMbF/AntRyKhogQDhd+xZk8",
      "include_colab_link": true
    },
    "kernelspec": {
      "name": "python3",
      "display_name": "Python 3"
    },
    "language_info": {
      "name": "python"
    }
  },
  "cells": [
    {
      "cell_type": "markdown",
      "metadata": {
        "id": "view-in-github",
        "colab_type": "text"
      },
      "source": [
        "<a href=\"https://colab.research.google.com/github/yashasangani/Complexity-analysis/blob/main/Time_complexity_Experimental_analysis.ipynb\" target=\"_parent\"><img src=\"https://colab.research.google.com/assets/colab-badge.svg\" alt=\"Open In Colab\"/></a>"
      ]
    },
    {
      "cell_type": "code",
      "source": [
        "# algorithm  for merge sort\n",
        "def merge(a1,a2,a):\n",
        "  i = 0\n",
        "  j = 0\n",
        "  k = 0\n",
        "  while i <len(a1) and j < len(a2):\n",
        "    if a1[i] < a2[j]:\n",
        "      a[k] = a1[i]\n",
        "      k = k + 1\n",
        "      i = i + 1\n",
        "    else:\n",
        "      a[k] = a2[j]\n",
        "      k = k + 1\n",
        "      j = j + 1\n",
        "  while i < len(a1):\n",
        "    a[k] = a[i]\n",
        "    k = k + 1\n",
        "    i = i + 1\n",
        "  while j < len(a2):\n",
        "    a[k] = a2[j]\n",
        "    k = k + 1\n",
        "    j = j + 1\n",
        "\n",
        "\n",
        "def merge_sort(a):\n",
        "  if len(a) == 0 or len(a) == 1:\n",
        "    return\n",
        "  mid = len(a) //2\n",
        "  a1 = a[0:mid]\n",
        "  a2 = a[mid:]\n",
        "  merge_sort(a1)\n",
        "  merge_sort(a2)\n",
        "  merge(a1,a2,a)\n"
      ],
      "metadata": {
        "id": "JxuesxJ9y7K-"
      },
      "execution_count": 1,
      "outputs": []
    },
    {
      "cell_type": "code",
      "source": [
        "# algorithm for selection sort\n",
        "def selection_sort(a):\n",
        "  for i in range(len(a)):\n",
        "    min_idx = i\n",
        "    for j in range(i+1,len(a)):\n",
        "      if a[min_idx] > a[j]:\n",
        "        min_idx = j\n",
        "    a[i],a[min_idx] = a[min_idx],a[i]\n",
        "\n",
        ""
      ],
      "metadata": {
        "id": "hnL4P_CP0pcw"
      },
      "execution_count": 15,
      "outputs": []
    },
    {
      "cell_type": "code",
      "source": [
        "# generate array with decreasing numbers\n",
        "def create_rev_array(n):\n",
        "  a = []\n",
        "  for i in range(n,0,-1):\n",
        "    a.append(i)\n",
        "  return a"
      ],
      "metadata": {
        "id": "C6fr_J0D0U4n"
      },
      "execution_count": 17,
      "outputs": []
    },
    {
      "cell_type": "code",
      "source": [
        "# check the time taken for each algorithm to sort the array for different number of inputs\n",
        "import time\n",
        "n =10\n",
        "n1 = 10\n",
        "a = create_rev_array(n)\n",
        "start = time.time()\n",
        "merge_sort(a)\n",
        "end = time.time()\n",
        "a1 = create_rev_array(n1)\n",
        "start1 = time.time()\n",
        "selection_sort(a1)\n",
        "end1 = time.time()\n",
        "print(\"number of input = \",n,\"merge_sort = \" ,end-start)\n",
        "print(\"number of input = \",n1,\"selection_sort = \",end1-start1)\n"
      ],
      "metadata": {
        "colab": {
          "base_uri": "https://localhost:8080/"
        },
        "id": "FOD5SQ3s114x",
        "outputId": "e94e8119-5bb9-45a6-c3d5-9363d69dada2"
      },
      "execution_count": 18,
      "outputs": [
        {
          "output_type": "stream",
          "name": "stdout",
          "text": [
            "number of input =  10 merge_sort =  0.0001163482666015625\n",
            "number of input =  10 selection_sort =  9.274482727050781e-05\n"
          ]
        }
      ]
    },
    {
      "cell_type": "code",
      "source": [
        "n =100\n",
        "n1 = 100\n",
        "a = create_rev_array(n)\n",
        "start = time.time()\n",
        "merge_sort(a)\n",
        "end = time.time()\n",
        "a1 = create_rev_array(n1)\n",
        "start1 = time.time()\n",
        "selection_sort(a1)\n",
        "end1 = time.time()\n",
        "print(\"number of input = \",n,\"merge_sort = \" ,end-start)\n",
        "print(\"number of input = \",n1,\"selection_sort = \",end1-start1)\n"
      ],
      "metadata": {
        "colab": {
          "base_uri": "https://localhost:8080/"
        },
        "id": "nhVtD7j13qYD",
        "outputId": "b21d56da-9dd8-40e1-fc4b-3c8911a4586f"
      },
      "execution_count": 19,
      "outputs": [
        {
          "output_type": "stream",
          "name": "stdout",
          "text": [
            "number of input =  100 merge_sort =  0.0004239082336425781\n",
            "number of input =  100 selection_sort =  0.0004734992980957031\n"
          ]
        }
      ]
    },
    {
      "cell_type": "code",
      "source": [
        "n =10000\n",
        "n1 = 10000\n",
        "a = create_rev_array(n)\n",
        "start = time.time()\n",
        "merge_sort(a)\n",
        "end = time.time()\n",
        "a1 = create_rev_array(n1)\n",
        "start1 = time.time()\n",
        "selection_sort(a1)\n",
        "end1 = time.time()\n",
        "print(\"number of input = \",n,\"merge_sort = \" ,end-start)\n",
        "print(\"number of input = \",n1,\"selection_sort = \",end1-start1)"
      ],
      "metadata": {
        "colab": {
          "base_uri": "https://localhost:8080/"
        },
        "id": "QPYfx68y3x8I",
        "outputId": "f5dfba71-4a77-47cb-b709-debf56002bfa"
      },
      "execution_count": 20,
      "outputs": [
        {
          "output_type": "stream",
          "name": "stdout",
          "text": [
            "number of input =  10000 merge_sort =  0.18391680717468262\n",
            "number of input =  10000 selection_sort =  4.959409713745117\n"
          ]
        }
      ]
    },
    {
      "cell_type": "code",
      "source": [
        "n =100000\n",
        "n1 = 100000\n",
        "a = create_rev_array(n)\n",
        "start = time.time()\n",
        "merge_sort(a)\n",
        "end = time.time()\n",
        "a1 = create_rev_array(n1)\n",
        "start1 = time.time()\n",
        "selection_sort(a1)\n",
        "end1 = time.time()\n",
        "print(\"number of input = \",n,\"merge_sort = \" ,end-start)\n",
        "print(\"number of input = \",n1,\"selection_sort = \",end1-start1)"
      ],
      "metadata": {
        "colab": {
          "base_uri": "https://localhost:8080/"
        },
        "id": "Fm5FGs2f32Pm",
        "outputId": "d7e08b07-9cf4-4730-aee2-0448698f3809"
      },
      "execution_count": 21,
      "outputs": [
        {
          "output_type": "stream",
          "name": "stdout",
          "text": [
            "number of input =  100000 merge_sort =  0.9681384563446045\n",
            "number of input =  100000 selection_sort =  528.1353352069855\n"
          ]
        }
      ]
    },
    {
      "cell_type": "code",
      "source": [],
      "metadata": {
        "id": "u-k_vSv43-y8"
      },
      "execution_count": null,
      "outputs": []
    }
  ]
}